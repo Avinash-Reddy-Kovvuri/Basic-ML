{
  "nbformat": 4,
  "nbformat_minor": 0,
  "metadata": {
    "colab": {
      "name": "Basic Python Programs.ipynb",
      "provenance": [],
      "authorship_tag": "ABX9TyNrOaGGYuZ37fwJWkd0D7Tr",
      "include_colab_link": true
    },
    "kernelspec": {
      "name": "python3",
      "display_name": "Python 3"
    },
    "language_info": {
      "name": "python"
    }
  },
  "cells": [
    {
      "cell_type": "markdown",
      "metadata": {
        "id": "view-in-github",
        "colab_type": "text"
      },
      "source": [
        "<a href=\"https://colab.research.google.com/github/Avinash-Reddy-Kovvuri/Basic-ML/blob/main/Basic_Python_Programs.ipynb\" target=\"_parent\"><img src=\"https://colab.research.google.com/assets/colab-badge.svg\" alt=\"Open In Colab\"/></a>"
      ]
    },
    {
      "cell_type": "markdown",
      "metadata": {
        "id": "U06Qrw4J0Q49"
      },
      "source": [
        "## 1.This is the basic python code to Find given number is **Even** or **odd**"
      ]
    },
    {
      "cell_type": "code",
      "metadata": {
        "colab": {
          "base_uri": "https://localhost:8080/"
        },
        "id": "aTUU2hxqyaS0",
        "outputId": "7ff14dee-3981-4b46-e849-9d448ffc165d"
      },
      "source": [
        "\"Let us consider number from input i.e,from user\"\n",
        "Number = int(input())\n",
        "if Number % 2 == 0:\n",
        "  \"Checking Given number is divisible by 2 or not\"\n",
        "  print(\"Given number is Even\")\n",
        "else:\n",
        "  print(\"Given number is Odd\")  "
      ],
      "execution_count": 14,
      "outputs": [
        {
          "output_type": "stream",
          "text": [
            "25\n",
            "Given number is Odd\n"
          ],
          "name": "stdout"
        }
      ]
    },
    {
      "cell_type": "markdown",
      "metadata": {
        "id": "3TgQymlR2Cc5"
      },
      "source": [
        "##2.This is the basic python code to Find given number is **Prime** or **not**"
      ]
    },
    {
      "cell_type": "code",
      "metadata": {
        "colab": {
          "base_uri": "https://localhost:8080/"
        },
        "id": "LpsF_NDD2Gvl",
        "outputId": "9e2bfef5-2a4a-4f99-9d60-b47d9e11c5f1"
      },
      "source": [
        "\"Let us consider number from input i.e,from user\"\n",
        "number = int(input()) \n",
        "for i in range(2,number):\n",
        "  if number % i == 0:\n",
        "    \"Checking Given number is divisible by other numbers which are less than given number\"\n",
        "    print(\"Given Number is a prime number\")\n",
        "    break\n",
        "else:\n",
        "  print(\"Given Number is not a prime number\")      "
      ],
      "execution_count": 13,
      "outputs": [
        {
          "output_type": "stream",
          "text": [
            "7\n",
            "Given Number is not a prime number\n"
          ],
          "name": "stdout"
        }
      ]
    },
    {
      "cell_type": "markdown",
      "metadata": {
        "id": "cCJOPdXs3YD_"
      },
      "source": [
        "##3.This is the basic python code to Find given number is **Palindrome**"
      ]
    },
    {
      "cell_type": "code",
      "metadata": {
        "colab": {
          "base_uri": "https://localhost:8080/"
        },
        "id": "PuIcouSK4oyt",
        "outputId": "3f84fd67-0770-4abe-b46b-77378d7544a6"
      },
      "source": [
        "\"Checking Given number is palindome or not -- Palindrome = Given_number == reverse(Given_number)\"\n",
        "\"Let us consider number from input i.e,from user\"\n",
        "number = int(input())\n",
        "Given_number = number\n",
        "new_number = 0\n",
        "while number != 0:\n",
        "  r = number % 10\n",
        "  \"Storing remainder of number while divided by 10 in r\"\n",
        "  new_number = (new_number * 10) + r\n",
        "  number = number // 10\n",
        "if Given_number == new_number:\n",
        "   print(\"Given Number is Palindrome\")\n",
        "else:\n",
        "  print(\"Given Number is not Palindrome\")    "
      ],
      "execution_count": 17,
      "outputs": [
        {
          "output_type": "stream",
          "text": [
            "122\n",
            "Given Number is not Palindrome\n"
          ],
          "name": "stdout"
        }
      ]
    }
  ]
}