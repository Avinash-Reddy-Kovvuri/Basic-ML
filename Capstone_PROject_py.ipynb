{
  "nbformat": 4,
  "nbformat_minor": 0,
  "metadata": {
    "colab": {
      "name": "Capstone_PROject.py",
      "provenance": [],
      "collapsed_sections": [],
      "authorship_tag": "ABX9TyNR2rJJ8R7ZzINSSQOl8oQS",
      "include_colab_link": true
    },
    "kernelspec": {
      "display_name": "Python 3",
      "name": "python3"
    },
    "language_info": {
      "name": "python"
    },
    "accelerator": "GPU"
  },
  "cells": [
    {
      "cell_type": "markdown",
      "metadata": {
        "id": "view-in-github",
        "colab_type": "text"
      },
      "source": [
        "<a href=\"https://colab.research.google.com/github/Avinash-Reddy-Kovvuri/Basic-ML/blob/main/Capstone_PROject_py.ipynb\" target=\"_parent\"><img src=\"https://colab.research.google.com/assets/colab-badge.svg\" alt=\"Open In Colab\"/></a>"
      ]
    },
    {
      "cell_type": "markdown",
      "metadata": {
        "id": "niZWLfzcqqyC"
      },
      "source": [
        "# **Drinking_water Dataset**"
      ]
    },
    {
      "cell_type": "markdown",
      "metadata": {
        "id": "16gFoBUAq42X"
      },
      "source": [
        "As the above mentioned dataset is extraced from famous ML and Datascience platform kaggle which is a csv file. It contains information relavant to the water sample and used this data in columns to predict the potability of drinking water(Given sample)."
      ]
    },
    {
      "cell_type": "markdown",
      "metadata": {
        "id": "dQ2IFeW6r6TT"
      },
      "source": [
        "> To generate final result that is to predict the potability of water sample given ,we need to buit machine learning model.\n",
        "*   Exploratory data analysis.\n",
        "*   Data Cleaning / Preprocessing.\n",
        "*   Building Macine learning Model.\n",
        "\n",
        "\n",
        "\n",
        "\n",
        "\n",
        "\n",
        "\n",
        "\n",
        "\n",
        "\n"
      ]
    },
    {
      "cell_type": "markdown",
      "metadata": {
        "id": "GBKHUguxuSo7"
      },
      "source": [
        "## **Exploratory data analysis**\n",
        "\n",
        "\n",
        "\n",
        "> It is also known as EDA which mainly focus on analysing or exploring the data manually or in form of pictorial representation to know well about it before working on it.\n",
        "\n",
        "\n",
        "\n",
        "\n",
        "\n",
        "\n",
        "\n"
      ]
    },
    {
      "cell_type": "markdown",
      "metadata": {
        "id": "3noyebdoxIcZ"
      },
      "source": [
        "To do this we need to import some libraries for Data manipulation along with the Data visualization"
      ]
    },
    {
      "cell_type": "code",
      "metadata": {
        "id": "IdIhe-xIxVG7"
      },
      "source": [
        "# Need to import relavant libraries to work on the data in csv file(Drinking_water.csv)\n",
        "import pandas as pd\n",
        "import numpy as np\n",
        "import matplotlib.pyplot as plt\n",
        "import seaborn as sns"
      ],
      "execution_count": 3,
      "outputs": []
    },
    {
      "cell_type": "code",
      "metadata": {
        "id": "ghPFXJabxmBT"
      },
      "source": [
        "# loading the data to variable Data\n",
        "Data = pd.read_csv(\"Drinking_water.csv\")"
      ],
      "execution_count": 4,
      "outputs": []
    },
    {
      "cell_type": "code",
      "metadata": {
        "id": "_nzTxW9Wxr0z",
        "colab": {
          "base_uri": "https://localhost:8080/"
        },
        "outputId": "8f2fb56c-8b64-4351-e97c-4be771871994"
      },
      "source": [
        "Data.shape"
      ],
      "execution_count": 5,
      "outputs": [
        {
          "output_type": "execute_result",
          "data": {
            "text/plain": [
              "(3276, 13)"
            ]
          },
          "metadata": {},
          "execution_count": 5
        }
      ]
    },
    {
      "cell_type": "markdown",
      "metadata": {
        "id": "fsWJpQTkxxi4"
      },
      "source": [
        "Through the above code it is known that the data contains the 3276 observations or water samples from different source and 13 features or columns."
      ]
    },
    {
      "cell_type": "code",
      "metadata": {
        "id": "Z-aRFztNyJcK",
        "colab": {
          "base_uri": "https://localhost:8080/"
        },
        "outputId": "6bd432df-1a03-4348-fe7a-0ae60fe69729"
      },
      "source": [
        "Data.columns"
      ],
      "execution_count": 6,
      "outputs": [
        {
          "output_type": "execute_result",
          "data": {
            "text/plain": [
              "Index(['Unnamed: 0', 'ph', 'Hardness', 'Solids', 'Chloramines', 'Sulfate',\n",
              "       'Conductivity', 'Organic_carbon', 'Trihalomethanes', 'Turbidity',\n",
              "       'Potability', 'Carcinogenics', 'medical_waste'],\n",
              "      dtype='object')"
            ]
          },
          "metadata": {},
          "execution_count": 6
        }
      ]
    },
    {
      "cell_type": "markdown",
      "metadata": {
        "id": "Se4k4ZujyVYR"
      },
      "source": [
        "Through this we came across to know that names of the columns that were in following data set"
      ]
    },
    {
      "cell_type": "code",
      "metadata": {
        "id": "9Tm2jwj9yv61",
        "colab": {
          "base_uri": "https://localhost:8080/",
          "height": 240
        },
        "outputId": "70e86b49-fdd7-4e71-8c6b-b5d335810561"
      },
      "source": [
        "Data.head()"
      ],
      "execution_count": 7,
      "outputs": [
        {
          "output_type": "execute_result",
          "data": {
            "text/html": [
              "<div>\n",
              "<style scoped>\n",
              "    .dataframe tbody tr th:only-of-type {\n",
              "        vertical-align: middle;\n",
              "    }\n",
              "\n",
              "    .dataframe tbody tr th {\n",
              "        vertical-align: top;\n",
              "    }\n",
              "\n",
              "    .dataframe thead th {\n",
              "        text-align: right;\n",
              "    }\n",
              "</style>\n",
              "<table border=\"1\" class=\"dataframe\">\n",
              "  <thead>\n",
              "    <tr style=\"text-align: right;\">\n",
              "      <th></th>\n",
              "      <th>Unnamed: 0</th>\n",
              "      <th>ph</th>\n",
              "      <th>Hardness</th>\n",
              "      <th>Solids</th>\n",
              "      <th>Chloramines</th>\n",
              "      <th>Sulfate</th>\n",
              "      <th>Conductivity</th>\n",
              "      <th>Organic_carbon</th>\n",
              "      <th>Trihalomethanes</th>\n",
              "      <th>Turbidity</th>\n",
              "      <th>Potability</th>\n",
              "      <th>Carcinogenics</th>\n",
              "      <th>medical_waste</th>\n",
              "    </tr>\n",
              "  </thead>\n",
              "  <tbody>\n",
              "    <tr>\n",
              "      <th>0</th>\n",
              "      <td>0</td>\n",
              "      <td>NaN</td>\n",
              "      <td>204.890455</td>\n",
              "      <td>20791.318981</td>\n",
              "      <td>7.300212</td>\n",
              "      <td>368.516441</td>\n",
              "      <td>564.308654</td>\n",
              "      <td>10.379783</td>\n",
              "      <td>86.990970</td>\n",
              "      <td>2.963135</td>\n",
              "      <td>0</td>\n",
              "      <td>NaN</td>\n",
              "      <td>NaN</td>\n",
              "    </tr>\n",
              "    <tr>\n",
              "      <th>1</th>\n",
              "      <td>1</td>\n",
              "      <td>3.716080</td>\n",
              "      <td>129.422921</td>\n",
              "      <td>18630.057858</td>\n",
              "      <td>6.635246</td>\n",
              "      <td>NaN</td>\n",
              "      <td>592.885359</td>\n",
              "      <td>15.180013</td>\n",
              "      <td>56.329076</td>\n",
              "      <td>4.500656</td>\n",
              "      <td>0</td>\n",
              "      <td>NaN</td>\n",
              "      <td>NaN</td>\n",
              "    </tr>\n",
              "    <tr>\n",
              "      <th>2</th>\n",
              "      <td>2</td>\n",
              "      <td>8.099124</td>\n",
              "      <td>224.236259</td>\n",
              "      <td>19909.541732</td>\n",
              "      <td>9.275884</td>\n",
              "      <td>NaN</td>\n",
              "      <td>418.606213</td>\n",
              "      <td>16.868637</td>\n",
              "      <td>66.420093</td>\n",
              "      <td>3.055934</td>\n",
              "      <td>0</td>\n",
              "      <td>NaN</td>\n",
              "      <td>NaN</td>\n",
              "    </tr>\n",
              "    <tr>\n",
              "      <th>3</th>\n",
              "      <td>3</td>\n",
              "      <td>8.316766</td>\n",
              "      <td>214.373394</td>\n",
              "      <td>22018.417441</td>\n",
              "      <td>8.059332</td>\n",
              "      <td>356.886136</td>\n",
              "      <td>363.266516</td>\n",
              "      <td>18.436524</td>\n",
              "      <td>100.341674</td>\n",
              "      <td>4.628771</td>\n",
              "      <td>0</td>\n",
              "      <td>NaN</td>\n",
              "      <td>NaN</td>\n",
              "    </tr>\n",
              "    <tr>\n",
              "      <th>4</th>\n",
              "      <td>4</td>\n",
              "      <td>9.092223</td>\n",
              "      <td>181.101509</td>\n",
              "      <td>17978.986339</td>\n",
              "      <td>6.546600</td>\n",
              "      <td>310.135738</td>\n",
              "      <td>398.410813</td>\n",
              "      <td>11.558279</td>\n",
              "      <td>31.997993</td>\n",
              "      <td>4.075075</td>\n",
              "      <td>0</td>\n",
              "      <td>NaN</td>\n",
              "      <td>NaN</td>\n",
              "    </tr>\n",
              "  </tbody>\n",
              "</table>\n",
              "</div>"
            ],
            "text/plain": [
              "   Unnamed: 0        ph    Hardness  ...  Potability  Carcinogenics  medical_waste\n",
              "0           0       NaN  204.890455  ...           0            NaN            NaN\n",
              "1           1  3.716080  129.422921  ...           0            NaN            NaN\n",
              "2           2  8.099124  224.236259  ...           0            NaN            NaN\n",
              "3           3  8.316766  214.373394  ...           0            NaN            NaN\n",
              "4           4  9.092223  181.101509  ...           0            NaN            NaN\n",
              "\n",
              "[5 rows x 13 columns]"
            ]
          },
          "metadata": {},
          "execution_count": 7
        }
      ]
    },
    {
      "cell_type": "code",
      "metadata": {
        "id": "SZAlaUw4yybG",
        "colab": {
          "base_uri": "https://localhost:8080/",
          "height": 240
        },
        "outputId": "f6e88b62-1b52-40b7-f396-d7d17b3b582d"
      },
      "source": [
        "Data.tail()"
      ],
      "execution_count": 8,
      "outputs": [
        {
          "output_type": "execute_result",
          "data": {
            "text/html": [
              "<div>\n",
              "<style scoped>\n",
              "    .dataframe tbody tr th:only-of-type {\n",
              "        vertical-align: middle;\n",
              "    }\n",
              "\n",
              "    .dataframe tbody tr th {\n",
              "        vertical-align: top;\n",
              "    }\n",
              "\n",
              "    .dataframe thead th {\n",
              "        text-align: right;\n",
              "    }\n",
              "</style>\n",
              "<table border=\"1\" class=\"dataframe\">\n",
              "  <thead>\n",
              "    <tr style=\"text-align: right;\">\n",
              "      <th></th>\n",
              "      <th>Unnamed: 0</th>\n",
              "      <th>ph</th>\n",
              "      <th>Hardness</th>\n",
              "      <th>Solids</th>\n",
              "      <th>Chloramines</th>\n",
              "      <th>Sulfate</th>\n",
              "      <th>Conductivity</th>\n",
              "      <th>Organic_carbon</th>\n",
              "      <th>Trihalomethanes</th>\n",
              "      <th>Turbidity</th>\n",
              "      <th>Potability</th>\n",
              "      <th>Carcinogenics</th>\n",
              "      <th>medical_waste</th>\n",
              "    </tr>\n",
              "  </thead>\n",
              "  <tbody>\n",
              "    <tr>\n",
              "      <th>3271</th>\n",
              "      <td>3271</td>\n",
              "      <td>4.668102</td>\n",
              "      <td>193.681735</td>\n",
              "      <td>47580.991603</td>\n",
              "      <td>7.166639</td>\n",
              "      <td>359.948574</td>\n",
              "      <td>526.424171</td>\n",
              "      <td>13.894419</td>\n",
              "      <td>66.687695</td>\n",
              "      <td>4.435821</td>\n",
              "      <td>1</td>\n",
              "      <td>NaN</td>\n",
              "      <td>NaN</td>\n",
              "    </tr>\n",
              "    <tr>\n",
              "      <th>3272</th>\n",
              "      <td>3272</td>\n",
              "      <td>7.808856</td>\n",
              "      <td>193.553212</td>\n",
              "      <td>17329.802160</td>\n",
              "      <td>8.061362</td>\n",
              "      <td>NaN</td>\n",
              "      <td>392.449580</td>\n",
              "      <td>19.903225</td>\n",
              "      <td>NaN</td>\n",
              "      <td>2.798243</td>\n",
              "      <td>1</td>\n",
              "      <td>NaN</td>\n",
              "      <td>NaN</td>\n",
              "    </tr>\n",
              "    <tr>\n",
              "      <th>3273</th>\n",
              "      <td>3273</td>\n",
              "      <td>9.419510</td>\n",
              "      <td>175.762646</td>\n",
              "      <td>33155.578218</td>\n",
              "      <td>7.350233</td>\n",
              "      <td>NaN</td>\n",
              "      <td>432.044783</td>\n",
              "      <td>11.039070</td>\n",
              "      <td>69.845400</td>\n",
              "      <td>3.298875</td>\n",
              "      <td>1</td>\n",
              "      <td>NaN</td>\n",
              "      <td>NaN</td>\n",
              "    </tr>\n",
              "    <tr>\n",
              "      <th>3274</th>\n",
              "      <td>3274</td>\n",
              "      <td>5.126763</td>\n",
              "      <td>230.603758</td>\n",
              "      <td>11983.869376</td>\n",
              "      <td>6.303357</td>\n",
              "      <td>NaN</td>\n",
              "      <td>402.883113</td>\n",
              "      <td>11.168946</td>\n",
              "      <td>77.488213</td>\n",
              "      <td>4.708658</td>\n",
              "      <td>1</td>\n",
              "      <td>NaN</td>\n",
              "      <td>NaN</td>\n",
              "    </tr>\n",
              "    <tr>\n",
              "      <th>3275</th>\n",
              "      <td>3275</td>\n",
              "      <td>7.874671</td>\n",
              "      <td>195.102299</td>\n",
              "      <td>17404.177061</td>\n",
              "      <td>7.509306</td>\n",
              "      <td>NaN</td>\n",
              "      <td>327.459760</td>\n",
              "      <td>16.140368</td>\n",
              "      <td>78.698446</td>\n",
              "      <td>2.309149</td>\n",
              "      <td>1</td>\n",
              "      <td>NaN</td>\n",
              "      <td>NaN</td>\n",
              "    </tr>\n",
              "  </tbody>\n",
              "</table>\n",
              "</div>"
            ],
            "text/plain": [
              "      Unnamed: 0        ph  ...  Carcinogenics  medical_waste\n",
              "3271        3271  4.668102  ...            NaN            NaN\n",
              "3272        3272  7.808856  ...            NaN            NaN\n",
              "3273        3273  9.419510  ...            NaN            NaN\n",
              "3274        3274  5.126763  ...            NaN            NaN\n",
              "3275        3275  7.874671  ...            NaN            NaN\n",
              "\n",
              "[5 rows x 13 columns]"
            ]
          },
          "metadata": {},
          "execution_count": 8
        }
      ]
    },
    {
      "cell_type": "markdown",
      "metadata": {
        "id": "aCcJUkQRy2Fv"
      },
      "source": [
        "By using these two operation we used to visualize the sample that is five five and last five observations of the data in tabular format"
      ]
    },
    {
      "cell_type": "markdown",
      "metadata": {
        "id": "85VtNj1WziFZ"
      },
      "source": [
        "\n",
        "\n",
        "> And through this we know that the Potability is the resultant or the value need to predicted by the Machine learing model by the relavant information regarding on the water sample given whether to drink the water or not ? ...\n",
        "\n"
      ]
    },
    {
      "cell_type": "code",
      "metadata": {
        "id": "QR80NZJU0xkV",
        "colab": {
          "base_uri": "https://localhost:8080/"
        },
        "outputId": "1a23fce4-b862-4851-c6f9-d8564b93a129"
      },
      "source": [
        "Data.Potability.unique()"
      ],
      "execution_count": 9,
      "outputs": [
        {
          "output_type": "execute_result",
          "data": {
            "text/plain": [
              "array([0, 1])"
            ]
          },
          "metadata": {},
          "execution_count": 9
        }
      ]
    },
    {
      "cell_type": "markdown",
      "metadata": {
        "id": "ZJTy87IB0Ctj"
      },
      "source": [
        "The resultant data which is Potability is just of values 1 or 0 which represents that whether to drink water or not by the data given by the sample water."
      ]
    },
    {
      "cell_type": "code",
      "metadata": {
        "id": "L19CHPy527kV",
        "colab": {
          "base_uri": "https://localhost:8080/"
        },
        "outputId": "91f81e3c-fef6-435c-adf0-a775f63397be"
      },
      "source": [
        "#checking the null values in above dataset\n",
        "Data.isnull().sum()"
      ],
      "execution_count": 10,
      "outputs": [
        {
          "output_type": "execute_result",
          "data": {
            "text/plain": [
              "Unnamed: 0            0\n",
              "ph                  491\n",
              "Hardness              0\n",
              "Solids                0\n",
              "Chloramines           0\n",
              "Sulfate             781\n",
              "Conductivity          0\n",
              "Organic_carbon        0\n",
              "Trihalomethanes     162\n",
              "Turbidity             0\n",
              "Potability            0\n",
              "Carcinogenics      3276\n",
              "medical_waste      3276\n",
              "dtype: int64"
            ]
          },
          "metadata": {},
          "execution_count": 10
        }
      ]
    },
    {
      "cell_type": "markdown",
      "metadata": {
        "id": "OwhiAwMo2-qK"
      },
      "source": [
        "\n",
        "\n",
        "\n",
        "1.   From this we came across with that some columns has huge number of missing values in it.\n",
        "2.   From the above code the null values present in columns ph, Sulfate, Trihalomethanes were about 15%, 24%, 5% of the total data.\n",
        "3.    And both Carcinogenics and medical_waste  are almost null that is the total null values is equal to the total number of observations.\n",
        "\n",
        "> Further process regarding on this is done in Data Cleaning / Preprocessing.\n",
        "\n",
        "\n"
      ]
    },
    {
      "cell_type": "code",
      "metadata": {
        "id": "d4O0xfDM33_g",
        "colab": {
          "base_uri": "https://localhost:8080/",
          "height": 1000
        },
        "outputId": "2004d8d2-6da2-4a62-ac62-77b2459cfaeb"
      },
      "source": [
        "Data.hist(edgecolor='black',bins = 25, figsize= (20,20))\n",
        "plt.show()"
      ],
      "execution_count": 11,
      "outputs": [
        {
          "output_type": "display_data",
          "data": {
            "image/png": "[encoded data removed]",
            "text/plain": [
              "<Figure size 1440x1440 with 16 Axes>"
            ]
          },
          "metadata": {
            "needs_background": "light"
          }
        }
      ]
    },
    {
      "cell_type": "markdown",
      "metadata": {
        "id": "hUlg9Iqp4pv1"
      },
      "source": [
        "From these visual Data Analysis we came to know the data which is interrelated itself to the values which need to be predicted and among themselves.\n",
        "And about some columns which effect the Potability of the water a lot "
      ]
    },
    {
      "cell_type": "markdown",
      "metadata": {
        "id": "K4SzB8Bc5qSE"
      },
      "source": [
        "## **Data Cleaning / Preprocessing**"
      ]
    },
    {
      "cell_type": "markdown",
      "metadata": {
        "id": "7zhbZL3iQVkz"
      },
      "source": [
        "\n",
        "\n",
        "> In this Data Cleaning / Preprocessing is used to \n",
        "*   Handling Missing values\n",
        "*   Scaling and Normalization\n",
        "*   Parsing Dates\n",
        "*   Character Encoding\n",
        "*   Inconsistent Data Entry\n",
        " \n",
        "\n",
        "\n",
        "\n",
        "\n",
        "\n",
        "\n",
        "\n",
        "\n",
        "\n",
        "\n"
      ]
    },
    {
      "cell_type": "markdown",
      "metadata": {
        "id": "t8weBHsyT5S1"
      },
      "source": [
        "Above mentioned processes should be done with respect to the data in the given in form of csv file."
      ]
    },
    {
      "cell_type": "markdown",
      "metadata": {
        "id": "HnjjYnqESvYy"
      },
      "source": [
        "Before going to the cleaning process just look into the **Sample Data**"
      ]
    },
    {
      "cell_type": "code",
      "metadata": {
        "id": "-njYX5ixRpLf",
        "colab": {
          "base_uri": "https://localhost:8080/",
          "height": 240
        },
        "outputId": "cda49355-37c2-4657-a0a4-65da02db1124"
      },
      "source": [
        "Data.head()"
      ],
      "execution_count": 12,
      "outputs": [
        {
          "output_type": "execute_result",
          "data": {
            "text/html": [
              "<div>\n",
              "<style scoped>\n",
              "    .dataframe tbody tr th:only-of-type {\n",
              "        vertical-align: middle;\n",
              "    }\n",
              "\n",
              "    .dataframe tbody tr th {\n",
              "        vertical-align: top;\n",
              "    }\n",
              "\n",
              "    .dataframe thead th {\n",
              "        text-align: right;\n",
              "    }\n",
              "</style>\n",
              "<table border=\"1\" class=\"dataframe\">\n",
              "  <thead>\n",
              "    <tr style=\"text-align: right;\">\n",
              "      <th></th>\n",
              "      <th>Unnamed: 0</th>\n",
              "      <th>ph</th>\n",
              "      <th>Hardness</th>\n",
              "      <th>Solids</th>\n",
              "      <th>Chloramines</th>\n",
              "      <th>Sulfate</th>\n",
              "      <th>Conductivity</th>\n",
              "      <th>Organic_carbon</th>\n",
              "      <th>Trihalomethanes</th>\n",
              "      <th>Turbidity</th>\n",
              "      <th>Potability</th>\n",
              "      <th>Carcinogenics</th>\n",
              "      <th>medical_waste</th>\n",
              "    </tr>\n",
              "  </thead>\n",
              "  <tbody>\n",
              "    <tr>\n",
              "      <th>0</th>\n",
              "      <td>0</td>\n",
              "      <td>NaN</td>\n",
              "      <td>204.890455</td>\n",
              "      <td>20791.318981</td>\n",
              "      <td>7.300212</td>\n",
              "      <td>368.516441</td>\n",
              "      <td>564.308654</td>\n",
              "      <td>10.379783</td>\n",
              "      <td>86.990970</td>\n",
              "      <td>2.963135</td>\n",
              "      <td>0</td>\n",
              "      <td>NaN</td>\n",
              "      <td>NaN</td>\n",
              "    </tr>\n",
              "    <tr>\n",
              "      <th>1</th>\n",
              "      <td>1</td>\n",
              "      <td>3.716080</td>\n",
              "      <td>129.422921</td>\n",
              "      <td>18630.057858</td>\n",
              "      <td>6.635246</td>\n",
              "      <td>NaN</td>\n",
              "      <td>592.885359</td>\n",
              "      <td>15.180013</td>\n",
              "      <td>56.329076</td>\n",
              "      <td>4.500656</td>\n",
              "      <td>0</td>\n",
              "      <td>NaN</td>\n",
              "      <td>NaN</td>\n",
              "    </tr>\n",
              "    <tr>\n",
              "      <th>2</th>\n",
              "      <td>2</td>\n",
              "      <td>8.099124</td>\n",
              "      <td>224.236259</td>\n",
              "      <td>19909.541732</td>\n",
              "      <td>9.275884</td>\n",
              "      <td>NaN</td>\n",
              "      <td>418.606213</td>\n",
              "      <td>16.868637</td>\n",
              "      <td>66.420093</td>\n",
              "      <td>3.055934</td>\n",
              "      <td>0</td>\n",
              "      <td>NaN</td>\n",
              "      <td>NaN</td>\n",
              "    </tr>\n",
              "    <tr>\n",
              "      <th>3</th>\n",
              "      <td>3</td>\n",
              "      <td>8.316766</td>\n",
              "      <td>214.373394</td>\n",
              "      <td>22018.417441</td>\n",
              "      <td>8.059332</td>\n",
              "      <td>356.886136</td>\n",
              "      <td>363.266516</td>\n",
              "      <td>18.436524</td>\n",
              "      <td>100.341674</td>\n",
              "      <td>4.628771</td>\n",
              "      <td>0</td>\n",
              "      <td>NaN</td>\n",
              "      <td>NaN</td>\n",
              "    </tr>\n",
              "    <tr>\n",
              "      <th>4</th>\n",
              "      <td>4</td>\n",
              "      <td>9.092223</td>\n",
              "      <td>181.101509</td>\n",
              "      <td>17978.986339</td>\n",
              "      <td>6.546600</td>\n",
              "      <td>310.135738</td>\n",
              "      <td>398.410813</td>\n",
              "      <td>11.558279</td>\n",
              "      <td>31.997993</td>\n",
              "      <td>4.075075</td>\n",
              "      <td>0</td>\n",
              "      <td>NaN</td>\n",
              "      <td>NaN</td>\n",
              "    </tr>\n",
              "  </tbody>\n",
              "</table>\n",
              "</div>"
            ],
            "text/plain": [
              "   Unnamed: 0        ph    Hardness  ...  Potability  Carcinogenics  medical_waste\n",
              "0           0       NaN  204.890455  ...           0            NaN            NaN\n",
              "1           1  3.716080  129.422921  ...           0            NaN            NaN\n",
              "2           2  8.099124  224.236259  ...           0            NaN            NaN\n",
              "3           3  8.316766  214.373394  ...           0            NaN            NaN\n",
              "4           4  9.092223  181.101509  ...           0            NaN            NaN\n",
              "\n",
              "[5 rows x 13 columns]"
            ]
          },
          "metadata": {},
          "execution_count": 12
        }
      ]
    },
    {
      "cell_type": "markdown",
      "metadata": {
        "id": "WyrpnCUnT1w7"
      },
      "source": [
        "Hence by looking into it ,we know that the data contains columns which all of are floating values.so,the data is completely in form of numerical values "
      ]
    },
    {
      "cell_type": "code",
      "metadata": {
        "id": "SZlU2248UCh4",
        "colab": {
          "base_uri": "https://localhost:8080/"
        },
        "outputId": "65285a99-3cbc-439a-eeb2-d4e247258553"
      },
      "source": [
        "Data.isnull().sum()"
      ],
      "execution_count": 13,
      "outputs": [
        {
          "output_type": "execute_result",
          "data": {
            "text/plain": [
              "Unnamed: 0            0\n",
              "ph                  491\n",
              "Hardness              0\n",
              "Solids                0\n",
              "Chloramines           0\n",
              "Sulfate             781\n",
              "Conductivity          0\n",
              "Organic_carbon        0\n",
              "Trihalomethanes     162\n",
              "Turbidity             0\n",
              "Potability            0\n",
              "Carcinogenics      3276\n",
              "medical_waste      3276\n",
              "dtype: int64"
            ]
          },
          "metadata": {},
          "execution_count": 13
        }
      ]
    },
    {
      "cell_type": "markdown",
      "metadata": {
        "id": "YY7waa65fzAI"
      },
      "source": [
        "*   From this we have that the two columns Carcinogenics and medical_waste have 100% of the total missing vlaues.\n",
        "*   In the process of Data Cleaning / Preprocessing ,we have to drop down the two columns named Carcinogenics and medical_waste and have to look into the other null value columns based on the correlation on the predicted values and percent of missing values. \n",
        "\n",
        "\n"
      ]
    },
    {
      "cell_type": "code",
      "metadata": {
        "id": "RyOtZeg2hfNA"
      },
      "source": [
        "Data = Data.drop(['medical_waste','Carcinogenics','Unnamed: 0'],axis=1)\n",
        "#Droping the unecessary data"
      ],
      "execution_count": 14,
      "outputs": []
    },
    {
      "cell_type": "markdown",
      "metadata": {
        "id": "QFX5EVHAjP1i"
      },
      "source": [
        "And by looking into the Exploratory data analysis that the null values in coulmns ph,Sulfate,Trihalomethanes are of 15%, 14%, 5%.so, we have to remove the rows/observations if null value present in one of the columns in that row.\n",
        "The below code is used to done it."
      ]
    },
    {
      "cell_type": "code",
      "metadata": {
        "id": "LRH8jd94k4Nc"
      },
      "source": [
        "Data.dropna(inplace=True,axis=0)"
      ],
      "execution_count": 15,
      "outputs": []
    },
    {
      "cell_type": "markdown",
      "metadata": {
        "id": "GI4Wfu18mjRh"
      },
      "source": [
        "Hence it is used to delete the rows which has atleast one null value in it."
      ]
    },
    {
      "cell_type": "code",
      "metadata": {
        "colab": {
          "base_uri": "https://localhost:8080/",
          "height": 295
        },
        "id": "-oVNvFA9lr2P",
        "outputId": "35478bd5-cd8e-470d-92fe-f1bcd1c5a0dc"
      },
      "source": [
        "Data.describe()"
      ],
      "execution_count": 16,
      "outputs": [
        {
          "output_type": "execute_result",
          "data": {
            "text/html": [
              "<div>\n",
              "<style scoped>\n",
              "    .dataframe tbody tr th:only-of-type {\n",
              "        vertical-align: middle;\n",
              "    }\n",
              "\n",
              "    .dataframe tbody tr th {\n",
              "        vertical-align: top;\n",
              "    }\n",
              "\n",
              "    .dataframe thead th {\n",
              "        text-align: right;\n",
              "    }\n",
              "</style>\n",
              "<table border=\"1\" class=\"dataframe\">\n",
              "  <thead>\n",
              "    <tr style=\"text-align: right;\">\n",
              "      <th></th>\n",
              "      <th>ph</th>\n",
              "      <th>Hardness</th>\n",
              "      <th>Solids</th>\n",
              "      <th>Chloramines</th>\n",
              "      <th>Sulfate</th>\n",
              "      <th>Conductivity</th>\n",
              "      <th>Organic_carbon</th>\n",
              "      <th>Trihalomethanes</th>\n",
              "      <th>Turbidity</th>\n",
              "      <th>Potability</th>\n",
              "    </tr>\n",
              "  </thead>\n",
              "  <tbody>\n",
              "    <tr>\n",
              "      <th>count</th>\n",
              "      <td>2011.000000</td>\n",
              "      <td>2011.000000</td>\n",
              "      <td>2011.000000</td>\n",
              "      <td>2011.000000</td>\n",
              "      <td>2011.000000</td>\n",
              "      <td>2011.000000</td>\n",
              "      <td>2011.000000</td>\n",
              "      <td>2011.000000</td>\n",
              "      <td>2011.000000</td>\n",
              "      <td>2011.000000</td>\n",
              "    </tr>\n",
              "    <tr>\n",
              "      <th>mean</th>\n",
              "      <td>7.085990</td>\n",
              "      <td>195.968072</td>\n",
              "      <td>21917.441374</td>\n",
              "      <td>7.134338</td>\n",
              "      <td>333.224672</td>\n",
              "      <td>426.526409</td>\n",
              "      <td>14.357709</td>\n",
              "      <td>66.400859</td>\n",
              "      <td>3.969729</td>\n",
              "      <td>0.403282</td>\n",
              "    </tr>\n",
              "    <tr>\n",
              "      <th>std</th>\n",
              "      <td>1.573337</td>\n",
              "      <td>32.635085</td>\n",
              "      <td>8642.239815</td>\n",
              "      <td>1.584820</td>\n",
              "      <td>41.205172</td>\n",
              "      <td>80.712572</td>\n",
              "      <td>3.324959</td>\n",
              "      <td>16.077109</td>\n",
              "      <td>0.780346</td>\n",
              "      <td>0.490678</td>\n",
              "    </tr>\n",
              "    <tr>\n",
              "      <th>min</th>\n",
              "      <td>0.227499</td>\n",
              "      <td>73.492234</td>\n",
              "      <td>320.942611</td>\n",
              "      <td>1.390871</td>\n",
              "      <td>129.000000</td>\n",
              "      <td>201.619737</td>\n",
              "      <td>2.200000</td>\n",
              "      <td>8.577013</td>\n",
              "      <td>1.450000</td>\n",
              "      <td>0.000000</td>\n",
              "    </tr>\n",
              "    <tr>\n",
              "      <th>25%</th>\n",
              "      <td>6.089723</td>\n",
              "      <td>176.744938</td>\n",
              "      <td>15615.665390</td>\n",
              "      <td>6.138895</td>\n",
              "      <td>307.632511</td>\n",
              "      <td>366.680307</td>\n",
              "      <td>12.124105</td>\n",
              "      <td>55.952664</td>\n",
              "      <td>3.442915</td>\n",
              "      <td>0.000000</td>\n",
              "    </tr>\n",
              "    <tr>\n",
              "      <th>50%</th>\n",
              "      <td>7.027297</td>\n",
              "      <td>197.191839</td>\n",
              "      <td>20933.512750</td>\n",
              "      <td>7.143907</td>\n",
              "      <td>332.232177</td>\n",
              "      <td>423.455906</td>\n",
              "      <td>14.322019</td>\n",
              "      <td>66.542198</td>\n",
              "      <td>3.968177</td>\n",
              "      <td>0.000000</td>\n",
              "    </tr>\n",
              "    <tr>\n",
              "      <th>75%</th>\n",
              "      <td>8.052969</td>\n",
              "      <td>216.441070</td>\n",
              "      <td>27182.587067</td>\n",
              "      <td>8.109726</td>\n",
              "      <td>359.330555</td>\n",
              "      <td>482.373169</td>\n",
              "      <td>16.683049</td>\n",
              "      <td>77.291925</td>\n",
              "      <td>4.514175</td>\n",
              "      <td>1.000000</td>\n",
              "    </tr>\n",
              "    <tr>\n",
              "      <th>max</th>\n",
              "      <td>14.000000</td>\n",
              "      <td>317.338124</td>\n",
              "      <td>56488.672413</td>\n",
              "      <td>13.127000</td>\n",
              "      <td>481.030642</td>\n",
              "      <td>753.342620</td>\n",
              "      <td>27.006707</td>\n",
              "      <td>124.000000</td>\n",
              "      <td>6.494749</td>\n",
              "      <td>1.000000</td>\n",
              "    </tr>\n",
              "  </tbody>\n",
              "</table>\n",
              "</div>"
            ],
            "text/plain": [
              "                ph     Hardness  ...    Turbidity   Potability\n",
              "count  2011.000000  2011.000000  ...  2011.000000  2011.000000\n",
              "mean      7.085990   195.968072  ...     3.969729     0.403282\n",
              "std       1.573337    32.635085  ...     0.780346     0.490678\n",
              "min       0.227499    73.492234  ...     1.450000     0.000000\n",
              "25%       6.089723   176.744938  ...     3.442915     0.000000\n",
              "50%       7.027297   197.191839  ...     3.968177     0.000000\n",
              "75%       8.052969   216.441070  ...     4.514175     1.000000\n",
              "max      14.000000   317.338124  ...     6.494749     1.000000\n",
              "\n",
              "[8 rows x 10 columns]"
            ]
          },
          "metadata": {},
          "execution_count": 16
        }
      ]
    },
    {
      "cell_type": "markdown",
      "metadata": {
        "id": "Axv3fSmXm6-a"
      },
      "source": [
        "Hence the number of observations got reduced to 2011 from 3276 after deleting rows with null values in it."
      ]
    },
    {
      "cell_type": "markdown",
      "metadata": {
        "id": "zL3jjv9_nom_"
      },
      "source": [
        "\n",
        "\n",
        "> Hence we can also manage the null values in many other ways like filling those values with constant or central tendency values like mean or median or mode based on its accuracy with the final predicted values.\n",
        "\n",
        "\n",
        "> But here I proceed with the basic concept that is to delete the data with the atleast one null value in it. \n",
        "\n",
        "\n",
        "\n"
      ]
    },
    {
      "cell_type": "markdown",
      "metadata": {
        "id": "E334HkxPopij"
      },
      "source": [
        "Now the data is ready to train a machine learning model."
      ]
    },
    {
      "cell_type": "markdown",
      "metadata": {
        "id": "Tb55P1SRpMHn"
      },
      "source": [
        "# **Building ML model**"
      ]
    },
    {
      "cell_type": "markdown",
      "metadata": {
        "id": "1E6BCHip0t8C"
      },
      "source": [
        "\n",
        "\n",
        "*   Before Building model, we have to separate the data of columns with features and with values to be predicted as y and X\n",
        "*   And then separate the 20% data in whole data along with the target column which is used to evaluate the performance of the data\n",
        "\n"
      ]
    },
    {
      "cell_type": "markdown",
      "metadata": {
        "id": "08phQRsNHCnD"
      },
      "source": [
        "\n",
        "\n",
        "> We actually build different type of ML models by using the library Scikit learn by importing it.\n",
        "\n"
      ]
    },
    {
      "cell_type": "code",
      "metadata": {
        "id": "5tvA6dE0z-os"
      },
      "source": [
        "# X will contain all the features and y will contain the target variable\n",
        "\n",
        "y = Data[\"Potability\"]\n",
        "X = Data.drop(\"Potability\",axis=1)"
      ],
      "execution_count": 17,
      "outputs": []
    },
    {
      "cell_type": "code",
      "metadata": {
        "id": "py2ZrlsB0PSJ"
      },
      "source": [
        "from sklearn.model_selection import train_test_split\n",
        "X_train, X_test, y_train, y_test = train_test_split(X, y, test_size = 0.2, random_state = 32)"
      ],
      "execution_count": 18,
      "outputs": []
    },
    {
      "cell_type": "markdown",
      "metadata": {
        "id": "WpUdvOm_w9mq"
      },
      "source": [
        "\n",
        "\n",
        "\n",
        "\n",
        "> ## **1.Logistic Regression:** \n",
        "\n",
        "\n",
        "\n"
      ]
    },
    {
      "cell_type": "markdown",
      "metadata": {
        "id": "xYytWJ4zwpm6"
      },
      "source": [
        "*   ## **Defining and Fitting model**\n",
        "\n",
        "\n"
      ]
    },
    {
      "cell_type": "code",
      "metadata": {
        "colab": {
          "base_uri": "https://localhost:8080/"
        },
        "id": "jyQnDvtWtHS4",
        "outputId": "5c8f3213-8ff1-4237-ea76-5b46d6cf8a09"
      },
      "source": [
        "from sklearn.linear_model import LogisticRegression\n",
        "logmodel = LogisticRegression()  #defining the model\n",
        "logmodel.fit(X_train,y_train)    # fitting the model"
      ],
      "execution_count": 19,
      "outputs": [
        {
          "output_type": "execute_result",
          "data": {
            "text/plain": [
              "LogisticRegression(C=1.0, class_weight=None, dual=False, fit_intercept=True,\n",
              "                   intercept_scaling=1, l1_ratio=None, max_iter=100,\n",
              "                   multi_class='auto', n_jobs=None, penalty='l2',\n",
              "                   random_state=None, solver='lbfgs', tol=0.0001, verbose=0,\n",
              "                   warm_start=False)"
            ]
          },
          "metadata": {},
          "execution_count": 19
        }
      ]
    },
    {
      "cell_type": "markdown",
      "metadata": {
        "id": "Jk8q-Z1cvNiD"
      },
      "source": [
        "Through the above code, we are defining the model specified above and fitting it with the feature values along with the values to be predicted that is both X_train and y_train"
      ]
    },
    {
      "cell_type": "markdown",
      "metadata": {
        "id": "t5AVle2Awe9p"
      },
      "source": [
        "\n",
        "\n",
        "*   ## **Accuracy**\n",
        "\n",
        "\n"
      ]
    },
    {
      "cell_type": "code",
      "metadata": {
        "colab": {
          "base_uri": "https://localhost:8080/"
        },
        "id": "wyEk_nbltXme",
        "outputId": "912185bf-e838-4b4f-9606-0e218369784d"
      },
      "source": [
        "predictions = logmodel.predict(X_test) #predicting the final values based on test data\n",
        "from sklearn.metrics import classification_report\n",
        "print(classification_report(y_test, predictions))"
      ],
      "execution_count": 20,
      "outputs": [
        {
          "output_type": "stream",
          "name": "stdout",
          "text": [
            "              precision    recall  f1-score   support\n",
            "\n",
            "           0       0.62      1.00      0.76       248\n",
            "           1       0.00      0.00      0.00       155\n",
            "\n",
            "    accuracy                           0.62       403\n",
            "   macro avg       0.31      0.50      0.38       403\n",
            "weighted avg       0.38      0.62      0.47       403\n",
            "\n"
          ]
        },
        {
          "output_type": "stream",
          "name": "stderr",
          "text": [
            "/usr/local/lib/python3.7/dist-packages/sklearn/metrics/_classification.py:1272: UndefinedMetricWarning: Precision and F-score are ill-defined and being set to 0.0 in labels with no predicted samples. Use `zero_division` parameter to control this behavior.\n",
            "  _warn_prf(average, modifier, msg_start, len(result))\n"
          ]
        }
      ]
    },
    {
      "cell_type": "markdown",
      "metadata": {
        "id": "F4G7vrXMvyeA"
      },
      "source": [
        "Finally generating the final values by inputing the 20% of the data separated from total data that is train_data and storing those values in predictions and comparing those with the actual values to know the accuracy."
      ]
    },
    {
      "cell_type": "markdown",
      "metadata": {
        "id": "vRi-8KxWxk9n"
      },
      "source": [
        "\n",
        "\n",
        "*   ## **Confusion Matrix**\n",
        "\n"
      ]
    },
    {
      "cell_type": "code",
      "metadata": {
        "colab": {
          "base_uri": "https://localhost:8080/"
        },
        "id": "8b_ZvcjttimR",
        "outputId": "1c457252-c0f1-4f32-ab19-0480e4abe758"
      },
      "source": [
        "from sklearn.metrics import confusion_matrix\n",
        "confusion_matrix(y_test, predictions)"
      ],
      "execution_count": 21,
      "outputs": [
        {
          "output_type": "execute_result",
          "data": {
            "text/plain": [
              "array([[248,   0],\n",
              "       [155,   0]])"
            ]
          },
          "metadata": {},
          "execution_count": 21
        }
      ]
    },
    {
      "cell_type": "markdown",
      "metadata": {
        "id": "lXJGHkEfxxXv"
      },
      "source": [
        "True positive: 248 (We predicted a positive result and it was positive)\n",
        "\n",
        "True negative: 0 (We predicted a negative result and it was negative)\n",
        "\n",
        "False positive: 0 (We predicted a positive result and it was negative)\n",
        "\n",
        "False negative: 155 (We predicted a negative result and it was positive)"
      ]
    },
    {
      "cell_type": "markdown",
      "metadata": {
        "id": "hVGEHUnXCMeq"
      },
      "source": [
        " \n",
        "\n",
        "> ## **2.Decision Tree Regression:**\n",
        "\n"
      ]
    },
    {
      "cell_type": "markdown",
      "metadata": {
        "id": "pU_T68OACSdU"
      },
      "source": [
        "*   ## **Defining and Fitting model**"
      ]
    },
    {
      "cell_type": "code",
      "metadata": {
        "colab": {
          "base_uri": "https://localhost:8080/"
        },
        "id": "wEmCdKFX4Pls",
        "outputId": "6b5d9bf5-e98c-4c59-9a3d-2e0c90ae2fd4"
      },
      "source": [
        "from sklearn.tree import DecisionTreeRegressor\n",
        "model = DecisionTreeRegressor()\n",
        "# Fit model\n",
        "model.fit(X_train, y_train)\n",
        "# get predicted values on validation data"
      ],
      "execution_count": 22,
      "outputs": [
        {
          "output_type": "execute_result",
          "data": {
            "text/plain": [
              "DecisionTreeRegressor(ccp_alpha=0.0, criterion='mse', max_depth=None,\n",
              "                      max_features=None, max_leaf_nodes=None,\n",
              "                      min_impurity_decrease=0.0, min_impurity_split=None,\n",
              "                      min_samples_leaf=1, min_samples_split=2,\n",
              "                      min_weight_fraction_leaf=0.0, presort='deprecated',\n",
              "                      random_state=None, splitter='best')"
            ]
          },
          "metadata": {},
          "execution_count": 22
        }
      ]
    },
    {
      "cell_type": "markdown",
      "metadata": {
        "id": "vMQyMvv2INVU"
      },
      "source": [
        "Through the above code, we are building a Decision Tree Regression model by fit the training data."
      ]
    },
    {
      "cell_type": "markdown",
      "metadata": {
        "id": "9mQ6vzonD5l2"
      },
      "source": [
        "*   ## **Accuracy**"
      ]
    },
    {
      "cell_type": "code",
      "metadata": {
        "colab": {
          "base_uri": "https://localhost:8080/"
        },
        "id": "ytOJLtxlEG5F",
        "outputId": "20009671-60a8-4b64-f290-57303e43e341"
      },
      "source": [
        "from sklearn.metrics import mean_absolute_error\n",
        "val_predictions = model.predict(X_test)\n",
        "print(mean_absolute_error(y_test, val_predictions))"
      ],
      "execution_count": 23,
      "outputs": [
        {
          "output_type": "stream",
          "name": "stdout",
          "text": [
            "0.4143920595533499\n"
          ]
        }
      ]
    },
    {
      "cell_type": "markdown",
      "metadata": {
        "id": "GD1saynsIbSI"
      },
      "source": [
        "\n",
        "\n",
        "\n",
        "*   Actually there are many ways in measuring the accuracy of the model which mean by evaluating the model based on the output in sklearn.metrics module.\n",
        "*   But here we are using mean_absolute_error to find it which is imported from sklearn.metrics\n",
        "\n"
      ]
    },
    {
      "cell_type": "markdown",
      "metadata": {
        "id": "fibT1yupFE7l"
      },
      "source": [
        "> ## **3.Linear Regression:**"
      ]
    },
    {
      "cell_type": "markdown",
      "metadata": {
        "id": "DCcFzIBWFpls"
      },
      "source": [
        "*   ## **Defining and Fitting model**"
      ]
    },
    {
      "cell_type": "code",
      "metadata": {
        "colab": {
          "base_uri": "https://localhost:8080/"
        },
        "id": "3sa4I3vA53ot",
        "outputId": "f48e5af5-15cf-4419-d3db-3fe8e52d057d"
      },
      "source": [
        "from sklearn.linear_model import LinearRegression\n",
        "\n",
        "linear_regression = LinearRegression()\n",
        "linear_regression.fit(X_train, y_train)"
      ],
      "execution_count": 24,
      "outputs": [
        {
          "output_type": "execute_result",
          "data": {
            "text/plain": [
              "LinearRegression(copy_X=True, fit_intercept=True, n_jobs=None, normalize=False)"
            ]
          },
          "metadata": {},
          "execution_count": 24
        }
      ]
    },
    {
      "cell_type": "markdown",
      "metadata": {
        "id": "9wdjVcKKJFb9"
      },
      "source": [
        "Through the above code, we are building a Linear Regression model by fit the training data."
      ]
    },
    {
      "cell_type": "markdown",
      "metadata": {
        "id": "G5n29qpvFuYB"
      },
      "source": [
        "*   ## **Accuracy**"
      ]
    },
    {
      "cell_type": "code",
      "metadata": {
        "colab": {
          "base_uri": "https://localhost:8080/"
        },
        "id": "A1guG2U11efu",
        "outputId": "f48c2069-9efb-41b8-97aa-1b3ee33c1876"
      },
      "source": [
        "val_predictions = linear_regression.predict(X_test)\n",
        "\n",
        "print(mean_absolute_error(y_test, val_predictions))"
      ],
      "execution_count": 25,
      "outputs": [
        {
          "output_type": "stream",
          "name": "stdout",
          "text": [
            "0.4771784903115844\n"
          ]
        }
      ]
    },
    {
      "cell_type": "markdown",
      "metadata": {
        "id": "p8hvZhRYJYWF"
      },
      "source": [
        "\n",
        "\n",
        "\n",
        " \n",
        "\n",
        "*   Actually there are many ways in measuring the accuracy of the model which mean by evaluating the model based on the output in sklearn.metrics module.\n",
        "*   But here we are using mean_absolute_error to find it which is imported from sklearn.metrics\n",
        "\n"
      ]
    },
    {
      "cell_type": "markdown",
      "metadata": {
        "id": "jaMDIZmoJqDU"
      },
      "source": [
        "# **Conclusion**"
      ]
    },
    {
      "cell_type": "markdown",
      "metadata": {
        "id": "D_JLe1GQJtyt"
      },
      "source": [
        "Now, Here coming up with the conclusion that we are building a machine learning model and to do this we have done the following steps:\n",
        "\n",
        "*   EDA which is to explore the data by looking the sample and knowing about the data like corelation with respect to the final predicted values and visualizing it in pictorial representation.\n",
        "\n",
        "*   In Data cleaning process we actually removed or manipulated some of the data which is not that much important/unecessary to build machine learning model by using the functions in library pandas.\n",
        "* Finally, To built a machine learning model we divided/splitted the data into the ratio 4:1(80% and 20%) to train and test the data by using scikit library\n",
        "* And then the three models named Logistic regression, Decision Tree Model and Linear regression were used to build the model with the help of scikit library.\n",
        "* And after evaluating those three models by comparing the actual final values to the values predicted by models to get accuary which enhance the efficiency of the model.\n",
        "\n",
        "\n"
      ]
    }
  ]
}